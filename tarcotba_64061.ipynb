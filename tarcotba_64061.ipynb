{
  "nbformat": 4,
  "nbformat_minor": 0,
  "metadata": {
    "colab": {
      "provenance": []
    },
    "kernelspec": {
      "name": "python3",
      "display_name": "Python 3"
    },
    "language_info": {
      "name": "python"
    }
  },
  "cells": [
    {
      "cell_type": "markdown",
      "source": [
        "**Advanced Machine Learning Assignment_1**\n",
        "\n",
        "tarcotba@kent.edu"
      ],
      "metadata": {
        "id": "qc24FjbwZivf"
      }
    },
    {
      "cell_type": "markdown",
      "source": [
        "**1. Code given in the assignment for understanding.**"
      ],
      "metadata": {
        "id": "XT7a4ReULu81"
      }
    },
    {
      "cell_type": "code",
      "execution_count": 1,
      "metadata": {
        "colab": {
          "base_uri": "https://localhost:8080/"
        },
        "id": "Qg6CGcyBLk1R",
        "outputId": "09387962-ec62-4a5e-f11e-79eeb2bdc5e2"
      },
      "outputs": [
        {
          "output_type": "stream",
          "name": "stdout",
          "text": [
            "Predictions from the classifier:\n",
            "[0 1 2 0 2 0 1 1 0 1 1 0 0 0 0 0 0 0 2 0 2 1 1 1 0 2 1 1 2 0 2 0 2 1 2 2 1\n",
            " 1 1 2 2 0 2 2 0 1 0 2 2 0 1 1 0 0 1 1 1 1 2 1 2 0 0 1 1 2 0 2 1 0 2 2 1 2\n",
            " 2 0 0 2 1 1 2 0 1 1 0 1 1 2 2 1 0 2 0 2 0 0 1 2 2 1 2 2 0 1 1 0 2 2 2 1 2\n",
            " 2 2 0 0 1 0 2 2 1]\n",
            "Target values:\n",
            "[0 1 2 0 2 0 1 1 0 1 1 0 0 0 0 0 0 0 2 0 2 1 1 1 0 2 1 1 2 0 2 0 2 2 2 2 1\n",
            " 1 1 1 2 0 2 2 0 1 0 2 2 0 1 1 0 0 1 1 1 1 2 1 2 0 0 1 1 1 0 2 1 0 2 2 1 2\n",
            " 2 0 0 2 1 1 2 0 1 1 0 1 1 2 2 1 0 2 0 2 0 0 1 2 2 1 2 2 0 1 1 0 2 2 2 1 2\n",
            " 2 2 0 0 1 0 2 2 1]\n",
            "0.975\n"
          ]
        },
        {
          "output_type": "execute_result",
          "data": {
            "text/plain": [
              "0.9666666666666667"
            ]
          },
          "metadata": {},
          "execution_count": 1
        }
      ],
      "source": [
        "# import modules for this project\n",
        "from sklearn import datasets\n",
        "from sklearn.metrics import accuracy_score\n",
        "from sklearn.model_selection import train_test_split\n",
        "\n",
        "# load iris dataset\n",
        "iris = datasets.load_iris()\n",
        "data, labels = iris.data, iris.target\n",
        "\n",
        "# training testing split\n",
        "res = train_test_split(data, labels,\n",
        "                       train_size=0.8,\n",
        "                       test_size=0.2,\n",
        "                       random_state=12)\n",
        "train_data, test_data, train_labels, test_labels = res\n",
        "\n",
        "# Create and fit a nearest-neighbor classifier\n",
        "from sklearn.neighbors import KNeighborsClassifier\n",
        "# classifier \"out of the box\", no parameters\n",
        "knn = KNeighborsClassifier()\n",
        "knn.fit(train_data, train_labels)\n",
        "\n",
        "# print some interested metrics\n",
        "print(\"Predictions from the classifier:\")\n",
        "learn_data_predicted = knn.predict(train_data)\n",
        "print(learn_data_predicted)\n",
        "print(\"Target values:\")\n",
        "print(train_labels)\n",
        "print(accuracy_score(learn_data_predicted, train_labels))\n",
        "\n",
        "# re-do KNN using some specific parameters.\n",
        "knn2 = KNeighborsClassifier(algorithm='auto',\n",
        "                            leaf_size=30,\n",
        "                            metric='minkowski',\n",
        "                            p=2,         # p=2 is equivalent to euclidian distance\n",
        "                            metric_params=None,\n",
        "                            n_jobs=1,\n",
        "                            n_neighbors=5,\n",
        "                            weights='uniform')\n",
        "\n",
        "knn.fit(train_data, train_labels)\n",
        "test_data_predicted = knn.predict(test_data)\n",
        "accuracy_score(test_data_predicted, test_labels)"
      ]
    },
    {
      "cell_type": "markdown",
      "source": [
        "**Observations**:\n",
        "\n",
        "From the code it is evident that we are performing classification using KNN method for the mentioned dataset IRIS.\n",
        "\n",
        "Firstly the data set was uploaded and is split into two i.e., Training and Testing, 80 and 20 respectively.\n",
        "\n",
        "Training the train dataset with KNN after initializing it with the default parameters.\n",
        "\n",
        "The same is repeated on the test dataset and the respected results are displayed.\n",
        "\n",
        "**Interpretation of results:**\n",
        "\n",
        "*Predictions from the classifier:* These are the training data's predicted class labels. Every sample in the training data is assigned to one of the three classes by the classifier (0, 1, or 2).\n",
        "\n",
        "*Target Values:* These represent the training data's true class labels, or the real target values. They show which group each sample actually belongs into.\n",
        "\n",
        "The accuracy value **97.5%** shows that the classifier correctly predicted the class for 97.5% of the samples in the training set.\n",
        "\n",
        "About **96.67%** of the test set's samples had the class properly predicted by the model."
      ],
      "metadata": {
        "id": "92reQi9kL52a"
      }
    },
    {
      "cell_type": "markdown",
      "source": [
        "**2. Replicating the study using new simulated data set.**"
      ],
      "metadata": {
        "id": "WaLvrLeDP_Fn"
      }
    },
    {
      "cell_type": "code",
      "source": [
        "from sklearn.datasets import make_blobs\n",
        "from sklearn.model_selection import train_test_split\n",
        "from sklearn.neighbors import KNeighborsClassifier\n",
        "import matplotlib.pyplot as plt\n",
        "import numpy as np\n",
        "\n",
        "centers = [[2, 4], [6, 6], [1, 9]]\n",
        "n_classes = len(centers)\n",
        "data, labels = make_blobs(n_samples=150,\n",
        "                          centers=np.array(centers),\n",
        "                          random_state=1)\n",
        "\n",
        "# Splitting the data in train and test sets.\n",
        "res = train_test_split(data, labels,\n",
        "                       train_size=0.8,\n",
        "                       test_size=0.2,\n",
        "                       random_state=12)\n",
        "train_data, test_data, train_labels, test_labels = res\n",
        "\n",
        "# Creating nearest neighbour classifier\n",
        "knn = KNeighborsClassifier()\n",
        "knn.fit(train_data, train_labels)\n",
        "\n",
        "# Train data predictions\n",
        "learn_data_predicted = knn.predict(train_data)\n",
        "\n",
        "# print metrics\n",
        "print(\"Predictions from the classifier:\")\n",
        "print(learn_data_predicted)\n",
        "print(\"Target values:\")\n",
        "print(train_labels)\n",
        "print(accuracy_score(learn_data_predicted, train_labels))"
      ],
      "metadata": {
        "colab": {
          "base_uri": "https://localhost:8080/"
        },
        "id": "yld5nYUrNkU1",
        "outputId": "011bb8b3-327f-4d44-e46f-451e106a9d97"
      },
      "execution_count": 14,
      "outputs": [
        {
          "output_type": "stream",
          "name": "stdout",
          "text": [
            "Predictions from the classifier:\n",
            "[0 2 1 0 0 1 1 2 2 0 2 2 2 1 1 0 0 2 1 1 0 0 0 1 1 2 0 0 1 0 1 1 1 0 1 2 0\n",
            " 1 0 1 2 2 2 0 2 0 2 2 0 0 0 1 2 2 2 2 1 1 0 1 2 1 2 2 2 0 0 0 0 0 0 0 1 1\n",
            " 2 1 2 1 2 2 1 1 1 0 2 1 2 1 0 1 2 1 0 2 0 1 2 2 0 2 1 0 0 2 1 1 2 2 0 1 1\n",
            " 1 2 2 2 1 1 2 1 2]\n",
            "Target values:\n",
            "[0 2 1 0 0 1 1 2 2 0 2 2 2 1 1 0 0 2 1 1 0 0 0 1 1 2 0 0 1 0 1 1 1 0 1 2 0\n",
            " 1 0 1 2 2 2 0 2 0 2 2 0 0 0 1 2 2 2 2 1 1 0 1 2 1 2 2 2 0 0 0 0 0 0 0 1 1\n",
            " 2 1 2 1 2 2 1 1 1 0 2 1 2 1 0 1 2 1 0 2 0 1 2 2 0 2 1 0 0 2 1 1 2 2 0 1 1\n",
            " 1 2 2 2 1 1 2 1 2]\n",
            "1.0\n"
          ]
        }
      ]
    },
    {
      "cell_type": "markdown",
      "source": [
        "Observations:\n",
        "\n",
        "The same process is repeated on the new simulated dataset. i.e., it is split into 80-20 training and testing data set. Using the same KNN code, full accuracy (**1.0**) is acheived."
      ],
      "metadata": {
        "id": "Q_aVvaFiT071"
      }
    },
    {
      "cell_type": "code",
      "source": [
        "# re-do KNN using some specific parameters.\n",
        "knn2 = KNeighborsClassifier(algorithm='auto',\n",
        "                            leaf_size=30,\n",
        "                            metric='minkowski',\n",
        "                            p=2,         # p=2 is equivalent to euclidian distance\n",
        "                            metric_params=None,\n",
        "                            n_jobs=1,\n",
        "                            n_neighbors=5,\n",
        "                            weights='uniform')\n",
        "\n",
        "knn.fit(train_data, train_labels)\n",
        "test_data_predicted = knn.predict(test_data)\n",
        "accuracy_score(test_data_predicted, test_labels)"
      ],
      "metadata": {
        "colab": {
          "base_uri": "https://localhost:8080/"
        },
        "id": "gCTt7f18RVm5",
        "outputId": "b73cae5c-ae4c-47df-9c75-06ae0f7e84bc"
      },
      "execution_count": 15,
      "outputs": [
        {
          "output_type": "execute_result",
          "data": {
            "text/plain": [
              "1.0"
            ]
          },
          "metadata": {},
          "execution_count": 15
        }
      ]
    },
    {
      "cell_type": "markdown",
      "source": [
        "The accuracy score for the testing set is printed after the KNN code is run with the parameters changed and the Euclidean distance set to 2. For the testing set, **100%** accuracy was attained. This means that the simulated dataset is **well-distributed.**"
      ],
      "metadata": {
        "id": "R4w_x7ewVnwr"
      }
    },
    {
      "cell_type": "markdown",
      "source": [
        "**3. The below code shows the visual representation of the train-test accuracy.**"
      ],
      "metadata": {
        "id": "8h1ZO4akV-Xv"
      }
    },
    {
      "cell_type": "code",
      "source": [
        "import matplotlib.pyplot as plt\n",
        "from sklearn.metrics import accuracy_score\n",
        "\n",
        "train_acc_knn = accuracy_score(learn_data_predicted, train_labels)\n",
        "test_acc_knn2 = accuracy_score(test_data_predicted, test_labels)\n",
        "\n",
        "labels = ['Train Accuracy', 'Test Accuracy']\n",
        "knn_acc = [train_acc_knn, test_acc_knn2]\n",
        "\n",
        "plt.figure(figsize=(8, 5))\n",
        "plt.barh(labels, knn_acc, height=0.4, label='KNN', align='center', color=\"grey\")  # barh for horizontal\n",
        "plt.xlabel('Accuracy')\n",
        "plt.title('KNN Training vs. Testing Accuracy')\n",
        "plt.legend()\n",
        "plt.show()"
      ],
      "metadata": {
        "colab": {
          "base_uri": "https://localhost:8080/",
          "height": 487
        },
        "id": "R854TpP6RzHe",
        "outputId": "edd14017-7fdb-4481-a08e-8e0b6c5ea55e"
      },
      "execution_count": 12,
      "outputs": [
        {
          "output_type": "display_data",
          "data": {
            "text/plain": [
              "<Figure size 800x500 with 1 Axes>"
            ],
            "image/png": "[encoded data removed]"
          },
          "metadata": {}
        }
      ]
    }
  ]
}